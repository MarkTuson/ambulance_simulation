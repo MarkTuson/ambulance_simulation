{
 "cells": [
  {
   "cell_type": "code",
   "execution_count": 1,
   "id": "c795d58d",
   "metadata": {},
   "outputs": [],
   "source": [
    "import pandas as pd\n",
    "import scipy.stats"
   ]
  },
  {
   "cell_type": "code",
   "execution_count": 2,
   "id": "4ebb2d5d",
   "metadata": {},
   "outputs": [],
   "source": [
    "current_ea = pd.read_csv('../data/posts/original/allocations/current.csv', names=['EA']).sum()['EA']\n",
    "current_rrv = pd.read_csv('../data/posts/original/allocations_secondary/current.csv', names=['RRV']).sum()['RRV']\n",
    "\n",
    "grid3km_ea = pd.read_csv('../data/posts/grid_3km/allocations/grid_3km.csv', names=['EA']).sum()['EA']\n",
    "grid3km_rrv = pd.read_csv('../data/posts/grid_3km/allocations_secondary/grid_3km.csv', names=['RRV']).sum()['RRV']\n",
    "\n",
    "grid5km_ea = pd.read_csv('../data/posts/grid_5km/allocations/grid_5km.csv', names=['EA']).sum()['EA']\n",
    "grid5km_rrv = pd.read_csv('../data/posts/grid_5km/allocations_secondary/grid_5km.csv', names=['RRV']).sum()['RRV']"
   ]
  },
  {
   "cell_type": "code",
   "execution_count": 3,
   "id": "f4001122",
   "metadata": {},
   "outputs": [],
   "source": [
    "current_13 = pd.read_csv('../results/results_summary_demand=13_posts=original_allocation=current_year=2019.csv')\n",
    "current_19 = pd.read_csv('../results/results_summary_demand=19_posts=original_allocation=current_year=2019.csv')\n",
    "current_34 = pd.read_csv('../results/results_summary_demand=34_posts=original_allocation=current_year=2019.csv')\n",
    "current_45 = pd.read_csv('../results/results_summary_demand=45_posts=original_allocation=current_year=2019.csv')\n",
    "\n",
    "optimised_13 = pd.read_csv('../results/results_summary_demand=13_posts=original_allocation=demand_13_current_current_year=2019.csv')\n",
    "optimised_19 = pd.read_csv('../results/results_summary_demand=19_posts=original_allocation=demand_19_current_current_year=2019.csv')\n",
    "optimised_34 = pd.read_csv('../results/results_summary_demand=34_posts=original_allocation=demand_34_current_current_year=2019.csv')\n",
    "optimised_45 = pd.read_csv('../results/results_summary_demand=45_posts=original_allocation=demand_45_current_current_year=2019.csv')\n",
    "\n",
    "grid3km_13 = pd.read_csv('../results/results_summary_demand=13_posts=grid_3km_allocation=grid_3km_year=2019.csv')\n",
    "grid3km_19 = pd.read_csv('../results/results_summary_demand=19_posts=grid_3km_allocation=grid_3km_year=2019.csv')\n",
    "grid3km_34 = pd.read_csv('../results/results_summary_demand=34_posts=grid_3km_allocation=grid_3km_year=2019.csv')\n",
    "grid3km_45 = pd.read_csv('../results/results_summary_demand=45_posts=grid_3km_allocation=grid_3km_year=2019.csv')\n",
    "\n",
    "grid5km_13 = pd.read_csv('../results/results_summary_demand=13_posts=grid_5km_allocation=grid_5km_year=2019.csv')\n",
    "grid5km_19 = pd.read_csv('../results/results_summary_demand=19_posts=grid_5km_allocation=grid_5km_year=2019.csv')\n",
    "grid5km_34 = pd.read_csv('../results/results_summary_demand=34_posts=grid_5km_allocation=grid_5km_year=2019.csv')\n",
    "grid5km_45 = pd.read_csv('../results/results_summary_demand=45_posts=grid_5km_allocation=grid_5km_year=2019.csv')"
   ]
  },
  {
   "cell_type": "code",
   "execution_count": 4,
   "id": "f22be18a-03fd-47ea-ac53-a3e1834da896",
   "metadata": {},
   "outputs": [
    {
     "data": {
      "text/plain": [
       "1.6448536269514722"
      ]
     },
     "execution_count": 4,
     "metadata": {},
     "output_type": "execute_result"
    }
   ],
   "source": [
    "scipy.stats.norm.ppf(1 - (0.1 / 2))"
   ]
  },
  {
   "cell_type": "code",
   "execution_count": null,
   "id": "17fd5b55-040e-4f90-9514-5197560387c1",
   "metadata": {},
   "outputs": [],
   "source": []
  },
  {
   "cell_type": "code",
   "execution_count": 5,
   "id": "6a989831",
   "metadata": {},
   "outputs": [],
   "source": [
    "current = pd.concat([current_13.mean(), current_19.mean(), current_34.mean(), current_45.mean()], axis=1, keys=['demand_13', 'demand_19', 'demand_34', 'demand_45']).drop('Trial').T\n",
    "optimised = pd.concat([optimised_13.mean(), optimised_19.mean(), optimised_34.mean(), optimised_45.mean()], axis=1, keys=['demand_13', 'demand_19', 'demand_34', 'demand_45']).drop('Trial').T\n",
    "grid3km = pd.concat([grid3km_13.mean(), grid3km_19.mean(), grid3km_34.mean(), grid3km_45.mean()], axis=1, keys=['demand_13', 'demand_19', 'demand_34', 'demand_45']).drop('Trial').T\n",
    "grid5km = pd.concat([grid5km_13.mean(), grid5km_19.mean(), grid5km_34.mean(), grid5km_45.mean()], axis=1, keys=['demand_13', 'demand_19', 'demand_34', 'demand_45']).drop('Trial').T"
   ]
  },
  {
   "cell_type": "code",
   "execution_count": 6,
   "id": "35e0b85d",
   "metadata": {},
   "outputs": [],
   "source": [
    "full_results = pd.concat(\n",
    "    [current, optimised, grid3km, grid5km],\n",
    "    keys=[\n",
    "        f'current. EA: {current_ea}, RRV: {current_rrv}',\n",
    "        f'optimised. EA: {current_ea}, RRV: {current_rrv}',\n",
    "        f'grid_3km. EA: {grid3km_ea}, RRV: {grid3km_rrv}',\n",
    "        f'grid_5km. EA: {grid5km_ea}, RRV: {grid5km_rrv}'\n",
    "    ]\n",
    ")"
   ]
  },
  {
   "cell_type": "code",
   "execution_count": 7,
   "id": "3d4226dd",
   "metadata": {},
   "outputs": [
    {
     "data": {
      "text/html": [
       "<div>\n",
       "<style scoped>\n",
       "    .dataframe tbody tr th:only-of-type {\n",
       "        vertical-align: middle;\n",
       "    }\n",
       "\n",
       "    .dataframe tbody tr th {\n",
       "        vertical-align: top;\n",
       "    }\n",
       "\n",
       "    .dataframe thead th {\n",
       "        text-align: right;\n",
       "    }\n",
       "</style>\n",
       "<table border=\"1\" class=\"dataframe\">\n",
       "  <thead>\n",
       "    <tr style=\"text-align: right;\">\n",
       "      <th></th>\n",
       "      <th></th>\n",
       "      <th>Percent Abandoned</th>\n",
       "      <th>Ambulance Utilisation</th>\n",
       "      <th>RRV Utilisation</th>\n",
       "      <th>Mean Response Time</th>\n",
       "      <th>StDev Response Time</th>\n",
       "      <th>Overall Survival</th>\n",
       "      <th>A1 Survival</th>\n",
       "    </tr>\n",
       "  </thead>\n",
       "  <tbody>\n",
       "    <tr>\n",
       "      <th rowspan=\"4\" valign=\"top\">current. EA: 81, RRV: 13</th>\n",
       "      <th>demand_13</th>\n",
       "      <td>0.000000</td>\n",
       "      <td>446.317215</td>\n",
       "      <td>323.499391</td>\n",
       "      <td>17.685457</td>\n",
       "      <td>6.975134</td>\n",
       "      <td>1120.773482</td>\n",
       "      <td>256.340248</td>\n",
       "    </tr>\n",
       "    <tr>\n",
       "      <th>demand_19</th>\n",
       "      <td>6.343564</td>\n",
       "      <td>548.753586</td>\n",
       "      <td>464.225572</td>\n",
       "      <td>18.483994</td>\n",
       "      <td>7.725726</td>\n",
       "      <td>1009.101133</td>\n",
       "      <td>221.983851</td>\n",
       "    </tr>\n",
       "    <tr>\n",
       "      <th>demand_34</th>\n",
       "      <td>49.474415</td>\n",
       "      <td>778.673773</td>\n",
       "      <td>752.780069</td>\n",
       "      <td>22.212160</td>\n",
       "      <td>11.556327</td>\n",
       "      <td>782.976834</td>\n",
       "      <td>180.494112</td>\n",
       "    </tr>\n",
       "    <tr>\n",
       "      <th>demand_45</th>\n",
       "      <td>139.571317</td>\n",
       "      <td>889.768500</td>\n",
       "      <td>876.825820</td>\n",
       "      <td>23.989499</td>\n",
       "      <td>12.919672</td>\n",
       "      <td>679.981176</td>\n",
       "      <td>170.736268</td>\n",
       "    </tr>\n",
       "    <tr>\n",
       "      <th rowspan=\"4\" valign=\"top\">optimised. EA: 81, RRV: 13</th>\n",
       "      <th>demand_13</th>\n",
       "      <td>0.000000</td>\n",
       "      <td>447.303291</td>\n",
       "      <td>263.419053</td>\n",
       "      <td>17.860121</td>\n",
       "      <td>7.035300</td>\n",
       "      <td>1111.243755</td>\n",
       "      <td>233.502423</td>\n",
       "    </tr>\n",
       "    <tr>\n",
       "      <th>demand_19</th>\n",
       "      <td>6.590632</td>\n",
       "      <td>548.968177</td>\n",
       "      <td>394.436117</td>\n",
       "      <td>18.517353</td>\n",
       "      <td>7.700569</td>\n",
       "      <td>1001.992049</td>\n",
       "      <td>206.627786</td>\n",
       "    </tr>\n",
       "    <tr>\n",
       "      <th>demand_34</th>\n",
       "      <td>54.643194</td>\n",
       "      <td>779.848621</td>\n",
       "      <td>706.561755</td>\n",
       "      <td>22.133264</td>\n",
       "      <td>11.861836</td>\n",
       "      <td>789.716270</td>\n",
       "      <td>180.420320</td>\n",
       "    </tr>\n",
       "    <tr>\n",
       "      <th>demand_45</th>\n",
       "      <td>133.485186</td>\n",
       "      <td>887.391302</td>\n",
       "      <td>817.882710</td>\n",
       "      <td>23.176395</td>\n",
       "      <td>12.513686</td>\n",
       "      <td>695.857917</td>\n",
       "      <td>167.876332</td>\n",
       "    </tr>\n",
       "    <tr>\n",
       "      <th rowspan=\"4\" valign=\"top\">grid_3km. EA: 70, RRV: 0</th>\n",
       "      <th>demand_13</th>\n",
       "      <td>7.502003</td>\n",
       "      <td>526.804342</td>\n",
       "      <td>NaN</td>\n",
       "      <td>22.294482</td>\n",
       "      <td>8.017682</td>\n",
       "      <td>920.678180</td>\n",
       "      <td>136.488010</td>\n",
       "    </tr>\n",
       "    <tr>\n",
       "      <th>demand_19</th>\n",
       "      <td>15.081251</td>\n",
       "      <td>649.297577</td>\n",
       "      <td>NaN</td>\n",
       "      <td>24.353474</td>\n",
       "      <td>NaN</td>\n",
       "      <td>NaN</td>\n",
       "      <td>NaN</td>\n",
       "    </tr>\n",
       "    <tr>\n",
       "      <th>demand_34</th>\n",
       "      <td>131.549140</td>\n",
       "      <td>870.470213</td>\n",
       "      <td>NaN</td>\n",
       "      <td>28.800683</td>\n",
       "      <td>NaN</td>\n",
       "      <td>NaN</td>\n",
       "      <td>NaN</td>\n",
       "    </tr>\n",
       "    <tr>\n",
       "      <th>demand_45</th>\n",
       "      <td>245.227601</td>\n",
       "      <td>968.613146</td>\n",
       "      <td>NaN</td>\n",
       "      <td>30.515092</td>\n",
       "      <td>NaN</td>\n",
       "      <td>NaN</td>\n",
       "      <td>NaN</td>\n",
       "    </tr>\n",
       "    <tr>\n",
       "      <th rowspan=\"4\" valign=\"top\">grid_5km. EA: 72, RRV: 0</th>\n",
       "      <th>demand_13</th>\n",
       "      <td>13.369184</td>\n",
       "      <td>515.377869</td>\n",
       "      <td>NaN</td>\n",
       "      <td>24.053764</td>\n",
       "      <td>7.938963</td>\n",
       "      <td>881.335876</td>\n",
       "      <td>95.640547</td>\n",
       "    </tr>\n",
       "    <tr>\n",
       "      <th>demand_19</th>\n",
       "      <td>29.240337</td>\n",
       "      <td>634.584151</td>\n",
       "      <td>NaN</td>\n",
       "      <td>25.778538</td>\n",
       "      <td>NaN</td>\n",
       "      <td>NaN</td>\n",
       "      <td>NaN</td>\n",
       "    </tr>\n",
       "    <tr>\n",
       "      <th>demand_34</th>\n",
       "      <td>141.006907</td>\n",
       "      <td>857.904837</td>\n",
       "      <td>NaN</td>\n",
       "      <td>29.955891</td>\n",
       "      <td>NaN</td>\n",
       "      <td>NaN</td>\n",
       "      <td>NaN</td>\n",
       "    </tr>\n",
       "    <tr>\n",
       "      <th>demand_45</th>\n",
       "      <td>251.041394</td>\n",
       "      <td>958.414663</td>\n",
       "      <td>NaN</td>\n",
       "      <td>31.599640</td>\n",
       "      <td>NaN</td>\n",
       "      <td>NaN</td>\n",
       "      <td>NaN</td>\n",
       "    </tr>\n",
       "  </tbody>\n",
       "</table>\n",
       "</div>"
      ],
      "text/plain": [
       "                                      Percent Abandoned  \\\n",
       "current. EA: 81, RRV: 13   demand_13           0.000000   \n",
       "                           demand_19           6.343564   \n",
       "                           demand_34          49.474415   \n",
       "                           demand_45         139.571317   \n",
       "optimised. EA: 81, RRV: 13 demand_13           0.000000   \n",
       "                           demand_19           6.590632   \n",
       "                           demand_34          54.643194   \n",
       "                           demand_45         133.485186   \n",
       "grid_3km. EA: 70, RRV: 0   demand_13           7.502003   \n",
       "                           demand_19          15.081251   \n",
       "                           demand_34         131.549140   \n",
       "                           demand_45         245.227601   \n",
       "grid_5km. EA: 72, RRV: 0   demand_13          13.369184   \n",
       "                           demand_19          29.240337   \n",
       "                           demand_34         141.006907   \n",
       "                           demand_45         251.041394   \n",
       "\n",
       "                                      Ambulance Utilisation  RRV Utilisation  \\\n",
       "current. EA: 81, RRV: 13   demand_13             446.317215       323.499391   \n",
       "                           demand_19             548.753586       464.225572   \n",
       "                           demand_34             778.673773       752.780069   \n",
       "                           demand_45             889.768500       876.825820   \n",
       "optimised. EA: 81, RRV: 13 demand_13             447.303291       263.419053   \n",
       "                           demand_19             548.968177       394.436117   \n",
       "                           demand_34             779.848621       706.561755   \n",
       "                           demand_45             887.391302       817.882710   \n",
       "grid_3km. EA: 70, RRV: 0   demand_13             526.804342              NaN   \n",
       "                           demand_19             649.297577              NaN   \n",
       "                           demand_34             870.470213              NaN   \n",
       "                           demand_45             968.613146              NaN   \n",
       "grid_5km. EA: 72, RRV: 0   demand_13             515.377869              NaN   \n",
       "                           demand_19             634.584151              NaN   \n",
       "                           demand_34             857.904837              NaN   \n",
       "                           demand_45             958.414663              NaN   \n",
       "\n",
       "                                      Mean Response Time  StDev Response Time  \\\n",
       "current. EA: 81, RRV: 13   demand_13           17.685457             6.975134   \n",
       "                           demand_19           18.483994             7.725726   \n",
       "                           demand_34           22.212160            11.556327   \n",
       "                           demand_45           23.989499            12.919672   \n",
       "optimised. EA: 81, RRV: 13 demand_13           17.860121             7.035300   \n",
       "                           demand_19           18.517353             7.700569   \n",
       "                           demand_34           22.133264            11.861836   \n",
       "                           demand_45           23.176395            12.513686   \n",
       "grid_3km. EA: 70, RRV: 0   demand_13           22.294482             8.017682   \n",
       "                           demand_19           24.353474                  NaN   \n",
       "                           demand_34           28.800683                  NaN   \n",
       "                           demand_45           30.515092                  NaN   \n",
       "grid_5km. EA: 72, RRV: 0   demand_13           24.053764             7.938963   \n",
       "                           demand_19           25.778538                  NaN   \n",
       "                           demand_34           29.955891                  NaN   \n",
       "                           demand_45           31.599640                  NaN   \n",
       "\n",
       "                                      Overall Survival  A1 Survival  \n",
       "current. EA: 81, RRV: 13   demand_13       1120.773482   256.340248  \n",
       "                           demand_19       1009.101133   221.983851  \n",
       "                           demand_34        782.976834   180.494112  \n",
       "                           demand_45        679.981176   170.736268  \n",
       "optimised. EA: 81, RRV: 13 demand_13       1111.243755   233.502423  \n",
       "                           demand_19       1001.992049   206.627786  \n",
       "                           demand_34        789.716270   180.420320  \n",
       "                           demand_45        695.857917   167.876332  \n",
       "grid_3km. EA: 70, RRV: 0   demand_13        920.678180   136.488010  \n",
       "                           demand_19               NaN          NaN  \n",
       "                           demand_34               NaN          NaN  \n",
       "                           demand_45               NaN          NaN  \n",
       "grid_5km. EA: 72, RRV: 0   demand_13        881.335876    95.640547  \n",
       "                           demand_19               NaN          NaN  \n",
       "                           demand_34               NaN          NaN  \n",
       "                           demand_45               NaN          NaN  "
      ]
     },
     "execution_count": 7,
     "metadata": {},
     "output_type": "execute_result"
    }
   ],
   "source": [
    "full_results * 1440"
   ]
  },
  {
   "cell_type": "code",
   "execution_count": 8,
   "id": "cade7399",
   "metadata": {},
   "outputs": [
    {
     "data": {
      "text/plain": [
       "[16.80048, 17.98704, 22.184639999999998, 23.97312]"
      ]
     },
     "execution_count": 8,
     "metadata": {},
     "output_type": "execute_result"
    }
   ],
   "source": [
    "[i * 24 * 60 for i in [0.011667, 0.012491, 0.015406, 0.016648]]"
   ]
  },
  {
   "cell_type": "markdown",
   "id": "5adae9a2-4a10-4316-bfb6-27fbe60e3c80",
   "metadata": {},
   "source": [
    "# Confidence intervals"
   ]
  },
  {
   "cell_type": "code",
   "execution_count": 9,
   "id": "063344eb-cb54-4df7-b51e-3a63c1aa2d01",
   "metadata": {},
   "outputs": [
    {
     "data": {
      "text/plain": [
       "[0.2454961425269975,\n",
       " 0.27603296792085413,\n",
       " 0.5023694071032736,\n",
       " 0.5630268883899494,\n",
       " 0.13708874257499776,\n",
       " 0.30798800111129226,\n",
       " 0.20647533843009044,\n",
       " 0.19694843834448328]"
      ]
     },
     "execution_count": 9,
     "metadata": {},
     "output_type": "execute_result"
    }
   ],
   "source": [
    "# Overall survival\n",
    "[data['Overall Survival'].std() / (5 ** 0.5) * scipy.stats.norm.ppf(1 - (0.1 / 2)) * 100 for data in [current_13, optimised_13, current_19, optimised_19, current_34, optimised_34, current_45, optimised_45]]"
   ]
  },
  {
   "cell_type": "code",
   "execution_count": 10,
   "id": "2b0be791-7b69-43b3-bf0f-2da8f5c399dd",
   "metadata": {},
   "outputs": [
    {
     "data": {
      "text/plain": [
       "[1.6763559753103545,\n",
       " 0.4181498791447783,\n",
       " 0.6497498822468565,\n",
       " 0.6867236221386882,\n",
       " 0.3119557118482112,\n",
       " 0.5620347934837614,\n",
       " 0.30791509463518335,\n",
       " 0.2769331395753649]"
      ]
     },
     "execution_count": 10,
     "metadata": {},
     "output_type": "execute_result"
    }
   ],
   "source": [
    "# A1 survival\n",
    "[data['A1 Survival'].std() / (5 ** 0.5) * scipy.stats.norm.ppf(1 - (0.1 / 2)) * 100 for data in [current_13, optimised_13, current_19, optimised_19, current_34, optimised_34, current_45, optimised_45]]"
   ]
  },
  {
   "cell_type": "code",
   "execution_count": 11,
   "id": "d3b689c0-f437-49f0-8298-a150f2527de5",
   "metadata": {},
   "outputs": [
    {
     "data": {
      "text/plain": [
       "[0.06868833596279801,\n",
       " 0.04569465888356614,\n",
       " 0.027381696645541687,\n",
       " 0.053793700537390736,\n",
       " 0.026577391537198913,\n",
       " 0.04843944608043038,\n",
       " 0.03860318046007533,\n",
       " 0.07381335265489462]"
      ]
     },
     "execution_count": 11,
     "metadata": {},
     "output_type": "execute_result"
    }
   ],
   "source": [
    "# Mean Response Time\n",
    "[1440 * data['Mean Response Time'].std() / (5 ** 0.5) * scipy.stats.norm.ppf(1 - (0.1 / 2)) for data in [current_13, optimised_13, current_19, optimised_19, current_34, optimised_34, current_45, optimised_45]]"
   ]
  },
  {
   "cell_type": "code",
   "execution_count": 18,
   "id": "7c7a4e2f-8d38-4e91-9305-a04d5025a9e5",
   "metadata": {},
   "outputs": [
    {
     "data": {
      "text/plain": [
       "[0.068688335962798, 0.05797477614852486, 0.028157610266464423]"
      ]
     },
     "execution_count": 18,
     "metadata": {},
     "output_type": "execute_result"
    }
   ],
   "source": [
    "[1440 * scipy.stats.norm.ppf(1 - (0.1 / 2)) * data['Mean Response Time'].std() / (5 ** 0.5) for data in [current_13, grid3km_13, grid5km_13]]"
   ]
  },
  {
   "cell_type": "code",
   "execution_count": null,
   "id": "af01e68e-50ba-44d8-baff-f81db772ec21",
   "metadata": {},
   "outputs": [],
   "source": []
  }
 ],
 "metadata": {
  "kernelspec": {
   "display_name": "Python 3 (ipykernel)",
   "language": "python",
   "name": "python3"
  },
  "language_info": {
   "codemirror_mode": {
    "name": "ipython",
    "version": 3
   },
   "file_extension": ".py",
   "mimetype": "text/x-python",
   "name": "python",
   "nbconvert_exporter": "python",
   "pygments_lexer": "ipython3",
   "version": "3.10.15"
  }
 },
 "nbformat": 4,
 "nbformat_minor": 5
}
