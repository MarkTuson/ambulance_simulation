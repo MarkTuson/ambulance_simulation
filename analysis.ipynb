{
 "cells": [
  {
   "cell_type": "code",
   "execution_count": 1,
   "metadata": {},
   "outputs": [],
   "source": [
    "import pandas as pd\n",
    "import numpy as np\n",
    "import yaml"
   ]
  },
  {
   "cell_type": "code",
   "execution_count": 2,
   "metadata": {},
   "outputs": [],
   "source": [
    "def find_ambulance_utilisations(data):\n",
    "    data_nofalse = data[data['ambulance_id'] != 'LFalse VFalse']\n",
    "    return data_nofalse.groupby(['ambulance_id', 'trial'])['ambulance_service_time'].sum().groupby(level=0).mean() / 31"
   ]
  },
  {
   "cell_type": "code",
   "execution_count": 3,
   "metadata": {},
   "outputs": [],
   "source": [
    "def find_rrv_utilisations(data):\n",
    "    data_nofalse = data[data['rrv_id'] != 'LFalse VFalse']\n",
    "    return data_nofalse.groupby(['rrv_id', 'trial'])['rrv_service_time'].sum().groupby(level=0).mean() / 31"
   ]
  },
  {
   "cell_type": "code",
   "execution_count": 4,
   "metadata": {},
   "outputs": [],
   "source": [
    "def find_percent_abandoned(data):\n",
    "    return data.isna().groupby(data['trial'])['ambulance_location'].mean().mean()"
   ]
  },
  {
   "cell_type": "code",
   "execution_count": 5,
   "metadata": {},
   "outputs": [],
   "source": [
    "data1 = pd.read_csv('src/results/base1.csv', index_col=0)\n",
    "data2 = pd.read_csv('src/results/base2.csv', index_col=0)"
   ]
  },
  {
   "cell_type": "markdown",
   "metadata": {},
   "source": [
    "# Base 1 (58 ambulances, 27 RRVs)"
   ]
  },
  {
   "cell_type": "code",
   "execution_count": 6,
   "metadata": {},
   "outputs": [
    {
     "data": {
      "text/plain": [
       "0.0"
      ]
     },
     "execution_count": 6,
     "metadata": {},
     "output_type": "execute_result"
    }
   ],
   "source": [
    "find_percent_abandoned(data1)"
   ]
  },
  {
   "cell_type": "code",
   "execution_count": 7,
   "metadata": {},
   "outputs": [
    {
     "data": {
      "text/plain": [
       "ambulance_id\n",
       "L1 V1     0.107085\n",
       "L1 V2     0.014177\n",
       "L12 V1    0.243952\n",
       "L14 V1    0.248527\n",
       "L15 V1    0.078086\n",
       "L17 V1    0.257755\n",
       "L18 V1    0.238244\n",
       "L18 V2    0.066898\n",
       "L19 V1    0.303022\n",
       "L2 V1     0.127506\n",
       "L20 V1    0.191236\n",
       "L23 V1    0.484278\n",
       "L23 V2    0.289912\n",
       "L24 V1    0.210418\n",
       "L24 V2    0.057412\n",
       "L27 V1    0.349492\n",
       "L29 V1    0.360701\n",
       "L29 V2    0.152423\n",
       "L3 V1     0.018140\n",
       "L31 V1    0.223365\n",
       "L35 V1    0.429400\n",
       "L35 V2    0.214819\n",
       "L36 V1    0.050820\n",
       "L37 V1    0.067445\n",
       "L37 V2    0.005735\n",
       "L39 V1    0.124813\n",
       "L39 V2    0.019636\n",
       "L40 V1    0.144584\n",
       "L40 V2    0.024495\n",
       "L41 V1    0.245676\n",
       "L42 V1    0.249714\n",
       "L42 V2    0.072811\n",
       "L43 V1    0.165022\n",
       "L46 V1    0.142136\n",
       "L48 V1    0.225925\n",
       "L49 V1    0.223562\n",
       "L49 V2    0.061181\n",
       "L5 V1     0.004074\n",
       "L50 V1    0.011228\n",
       "L52 V1    0.088691\n",
       "L54 V1    0.063887\n",
       "L55 V1    0.084172\n",
       "L56 V1    0.006939\n",
       "L57 V1    0.320912\n",
       "L57 V2    0.112784\n",
       "L58 V1    0.031592\n",
       "L58 V2    0.002509\n",
       "L59 V1    0.121874\n",
       "L59 V2    0.015747\n",
       "L60 V1    0.148065\n",
       "L60 V2    0.028734\n",
       "L61 V1    0.014897\n",
       "L62 V1    0.046030\n",
       "L62 V2    0.003572\n",
       "L63 V1    0.074011\n",
       "L9 V1     0.076654\n",
       "Name: ambulance_service_time, dtype: float64"
      ]
     },
     "execution_count": 7,
     "metadata": {},
     "output_type": "execute_result"
    }
   ],
   "source": [
    "find_ambulance_utilisations(data1)"
   ]
  },
  {
   "cell_type": "code",
   "execution_count": 8,
   "metadata": {},
   "outputs": [
    {
     "data": {
      "text/plain": [
       "count    56.000000\n",
       "mean      0.138335\n",
       "std       0.118662\n",
       "min       0.002509\n",
       "25%       0.042421\n",
       "50%       0.109935\n",
       "75%       0.224152\n",
       "max       0.484278\n",
       "Name: ambulance_service_time, dtype: float64"
      ]
     },
     "execution_count": 8,
     "metadata": {},
     "output_type": "execute_result"
    }
   ],
   "source": [
    "find_ambulance_utilisations(data1).describe()"
   ]
  },
  {
   "cell_type": "code",
   "execution_count": 9,
   "metadata": {},
   "outputs": [
    {
     "data": {
      "text/plain": [
       "rrv_id\n",
       "L1 V1     0.056060\n",
       "L1 V2     0.004746\n",
       "L18 V1    0.210793\n",
       "L23 V1    0.312029\n",
       "L23 V2    0.113169\n",
       "L24 V1    0.146913\n",
       "L29 V1    0.230879\n",
       "L29 V2    0.070647\n",
       "L35 V1    0.199920\n",
       "L37 V1    0.044153\n",
       "L37 V2    0.003044\n",
       "L39 V1    0.087885\n",
       "L40 V1    0.143668\n",
       "L40 V2    0.023300\n",
       "L42 V1    0.123368\n",
       "L49 V1    0.095321\n",
       "L49 V2    0.010065\n",
       "L50 V1    0.016013\n",
       "L57 V1    0.158733\n",
       "L57 V2    0.027062\n",
       "L58 V1    0.001450\n",
       "L59 V1    0.083574\n",
       "L59 V2    0.007845\n",
       "L60 V1    0.067541\n",
       "L61 V1    0.007896\n",
       "L61 V2    0.000494\n",
       "L62 V1    0.017991\n",
       "Name: rrv_service_time, dtype: float64"
      ]
     },
     "execution_count": 9,
     "metadata": {},
     "output_type": "execute_result"
    }
   ],
   "source": [
    "find_rrv_utilisations(data1)"
   ]
  },
  {
   "cell_type": "code",
   "execution_count": 10,
   "metadata": {},
   "outputs": [
    {
     "data": {
      "text/plain": [
       "count    27.000000\n",
       "mean      0.083873\n",
       "std       0.083467\n",
       "min       0.000494\n",
       "25%       0.013039\n",
       "50%       0.067541\n",
       "75%       0.133518\n",
       "max       0.312029\n",
       "Name: rrv_service_time, dtype: float64"
      ]
     },
     "execution_count": 10,
     "metadata": {},
     "output_type": "execute_result"
    }
   ],
   "source": [
    "find_rrv_utilisations(data1).describe()"
   ]
  },
  {
   "cell_type": "markdown",
   "metadata": {},
   "source": [
    "# Base 2 (6 Ambulances, 12 RRVs)"
   ]
  },
  {
   "cell_type": "code",
   "execution_count": 11,
   "metadata": {},
   "outputs": [
    {
     "data": {
      "text/plain": [
       "0.4977091749946192"
      ]
     },
     "execution_count": 11,
     "metadata": {},
     "output_type": "execute_result"
    }
   ],
   "source": [
    "find_percent_abandoned(data2)"
   ]
  },
  {
   "cell_type": "code",
   "execution_count": 12,
   "metadata": {},
   "outputs": [
    {
     "data": {
      "text/plain": [
       "ambulance_id\n",
       "L14 V1    0.842456\n",
       "L17 V1    0.878564\n",
       "L31 V1    0.866001\n",
       "L36 V1    0.844307\n",
       "L41 V1    0.872563\n",
       "L48 V1    0.853909\n",
       "Name: ambulance_service_time, dtype: float64"
      ]
     },
     "execution_count": 12,
     "metadata": {},
     "output_type": "execute_result"
    }
   ],
   "source": [
    "find_ambulance_utilisations(data2)"
   ]
  },
  {
   "cell_type": "code",
   "execution_count": 13,
   "metadata": {},
   "outputs": [
    {
     "data": {
      "text/plain": [
       "count    6.000000\n",
       "mean     0.859633\n",
       "std      0.015025\n",
       "min      0.842456\n",
       "25%      0.846708\n",
       "50%      0.859955\n",
       "75%      0.870922\n",
       "max      0.878564\n",
       "Name: ambulance_service_time, dtype: float64"
      ]
     },
     "execution_count": 13,
     "metadata": {},
     "output_type": "execute_result"
    }
   ],
   "source": [
    "find_ambulance_utilisations(data2).describe()"
   ]
  },
  {
   "cell_type": "code",
   "execution_count": 14,
   "metadata": {},
   "outputs": [
    {
     "data": {
      "text/plain": [
       "rrv_id\n",
       "L14 V1    0.152958\n",
       "L30 V1    0.193642\n",
       "L36 V1    0.309838\n",
       "L4 V1     0.188543\n",
       "L4 V2     0.045854\n",
       "L41 V1    0.557942\n",
       "L41 V2    0.374932\n",
       "L48 V1    0.247410\n",
       "L52 V1    0.313769\n",
       "L63 V1    0.128858\n",
       "L63 V2    0.014023\n",
       "L8 V1     0.443892\n",
       "Name: rrv_service_time, dtype: float64"
      ]
     },
     "execution_count": 14,
     "metadata": {},
     "output_type": "execute_result"
    }
   ],
   "source": [
    "find_rrv_utilisations(data2)"
   ]
  },
  {
   "cell_type": "code",
   "execution_count": 15,
   "metadata": {},
   "outputs": [
    {
     "data": {
      "text/plain": [
       "count    12.000000\n",
       "mean      0.247638\n",
       "std       0.160687\n",
       "min       0.014023\n",
       "25%       0.146933\n",
       "50%       0.220526\n",
       "75%       0.329060\n",
       "max       0.557942\n",
       "Name: rrv_service_time, dtype: float64"
      ]
     },
     "execution_count": 15,
     "metadata": {},
     "output_type": "execute_result"
    }
   ],
   "source": [
    "find_rrv_utilisations(data2).describe()"
   ]
  },
  {
   "cell_type": "code",
   "execution_count": null,
   "metadata": {},
   "outputs": [],
   "source": []
  }
 ],
 "metadata": {
  "kernelspec": {
   "display_name": "Python 3",
   "language": "python",
   "name": "python3"
  },
  "language_info": {
   "codemirror_mode": {
    "name": "ipython",
    "version": 3
   },
   "file_extension": ".py",
   "mimetype": "text/x-python",
   "name": "python",
   "nbconvert_exporter": "python",
   "pygments_lexer": "ipython3",
   "version": "3.7.3"
  }
 },
 "nbformat": 4,
 "nbformat_minor": 2
}
