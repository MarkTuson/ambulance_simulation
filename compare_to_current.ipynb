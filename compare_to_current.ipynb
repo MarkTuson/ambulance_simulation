{
 "cells": [
  {
   "cell_type": "code",
   "execution_count": 36,
   "id": "eaf948be",
   "metadata": {},
   "outputs": [],
   "source": [
    "import pandas as pd"
   ]
  },
  {
   "cell_type": "code",
   "execution_count": 37,
   "id": "45a441fb",
   "metadata": {},
   "outputs": [],
   "source": [
    "current = pd.read_csv('src/results/results_summary_demand=13_posts=original_allocation=current_year=2019.csv').mean()"
   ]
  },
  {
   "cell_type": "code",
   "execution_count": 38,
   "id": "d2111e99",
   "metadata": {
    "scrolled": true
   },
   "outputs": [],
   "source": [
    "summary = pd.read_csv('src/results/results_summary.csv')\n",
    "summary = summary[summary['Scenario'] == 'withRRV']\n",
    "summary = summary.groupby(['Demand Level', 'Resource Level']).mean().reset_index()"
   ]
  },
  {
   "cell_type": "code",
   "execution_count": 152,
   "id": "74e7edb2",
   "metadata": {},
   "outputs": [],
   "source": [
    "def find_best(demand, kpi):\n",
    "    data = summary[summary['Demand Level'] == demand][['Resource Level', kpi]].set_index('Resource Level') - current[kpi]\n",
    "    if kpi == 'Overall Survival':\n",
    "        if len(data[data[kpi] >= 0]) == 0:\n",
    "            return '> 124'\n",
    "        best_res_level = data[data[kpi] >= 0].idxmin()[kpi]  \n",
    "    else:\n",
    "        if len(data[data[kpi] <= 0]) == 0:\n",
    "            return '> 124'\n",
    "        best_res_level = data[data[kpi] <= 0].idxmax()[kpi]  \n",
    "    allocations = pd.read_csv(f'../results/demand_{demand}_withRRV_out.csv', names=range(24), index_col=0)\n",
    "    ea = int(allocations.loc[best_res_level, 2])\n",
    "    rrv = int(allocations.loc[best_res_level, 5])\n",
    "    return f\"{best_res_level}, ({ea}, {rrv})\""
   ]
  },
  {
   "cell_type": "code",
   "execution_count": 153,
   "id": "649431f4",
   "metadata": {},
   "outputs": [
    {
     "data": {
      "text/plain": [
       "Trial                             5.500000\n",
       "Percent Abandoned                 0.000339\n",
       "Ambulance Utilisation             0.317497\n",
       "RRV Utilisation                   0.409045\n",
       "Mean Response Time                0.011667\n",
       "Percent Response < 8              0.061027\n",
       "Percent Response < 15             0.448023\n",
       "Percent Response < 60             0.999983\n",
       "Percent Response within Target    0.754018\n",
       "Overall Survival                  0.754774\n",
       "dtype: float64"
      ]
     },
     "execution_count": 153,
     "metadata": {},
     "output_type": "execute_result"
    }
   ],
   "source": [
    "current"
   ]
  },
  {
   "cell_type": "code",
   "execution_count": 154,
   "id": "347d009a",
   "metadata": {},
   "outputs": [
    {
     "data": {
      "text/html": [
       "<div>\n",
       "<style scoped>\n",
       "    .dataframe tbody tr th:only-of-type {\n",
       "        vertical-align: middle;\n",
       "    }\n",
       "\n",
       "    .dataframe tbody tr th {\n",
       "        vertical-align: top;\n",
       "    }\n",
       "\n",
       "    .dataframe thead th {\n",
       "        text-align: right;\n",
       "    }\n",
       "</style>\n",
       "<table border=\"1\" class=\"dataframe\">\n",
       "  <thead>\n",
       "    <tr style=\"text-align: right;\">\n",
       "      <th></th>\n",
       "      <th>Mean Response Time</th>\n",
       "      <th>Overall Survival</th>\n",
       "      <th>Percent Abandoned</th>\n",
       "    </tr>\n",
       "  </thead>\n",
       "  <tbody>\n",
       "    <tr>\n",
       "      <th>13</th>\n",
       "      <td>60, (50, 30)</td>\n",
       "      <td>60, (50, 30)</td>\n",
       "      <td>80, (66, 42)</td>\n",
       "    </tr>\n",
       "    <tr>\n",
       "      <th>19</th>\n",
       "      <td>70, (60, 30)</td>\n",
       "      <td>78, (63, 45)</td>\n",
       "      <td>101, (79, 66)</td>\n",
       "    </tr>\n",
       "    <tr>\n",
       "      <th>34</th>\n",
       "      <td>88, (75, 39)</td>\n",
       "      <td>106, (83, 69)</td>\n",
       "      <td>&gt; 124</td>\n",
       "    </tr>\n",
       "    <tr>\n",
       "      <th>45</th>\n",
       "      <td>99, (85, 42)</td>\n",
       "      <td>&gt; 124</td>\n",
       "      <td>&gt; 124</td>\n",
       "    </tr>\n",
       "  </tbody>\n",
       "</table>\n",
       "</div>"
      ],
      "text/plain": [
       "   Mean Response Time Overall Survival Percent Abandoned\n",
       "13       60, (50, 30)     60, (50, 30)      80, (66, 42)\n",
       "19       70, (60, 30)     78, (63, 45)     101, (79, 66)\n",
       "34       88, (75, 39)    106, (83, 69)             > 124\n",
       "45       99, (85, 42)            > 124             > 124"
      ]
     },
     "execution_count": 154,
     "metadata": {},
     "output_type": "execute_result"
    }
   ],
   "source": [
    "demands = [13, 19, 34, 45]\n",
    "kpis = ['Mean Response Time', 'Overall Survival', 'Percent Abandoned']\n",
    "pd.DataFrame({\n",
    "    kpi: [find_best(d, kpi) for d in demands] for kpi in kpis\n",
    "}, index=demands)"
   ]
  },
  {
   "cell_type": "code",
   "execution_count": 164,
   "id": "355021bd",
   "metadata": {},
   "outputs": [
    {
     "data": {
      "text/plain": [
       "16.8"
      ]
     },
     "execution_count": 164,
     "metadata": {},
     "output_type": "execute_result"
    }
   ],
   "source": [
    "round(current['Mean Response Time'] * (24 * 60), 1)"
   ]
  },
  {
   "cell_type": "code",
   "execution_count": 165,
   "id": "f7356781",
   "metadata": {},
   "outputs": [
    {
     "data": {
      "text/plain": [
       "75.48"
      ]
     },
     "execution_count": 165,
     "metadata": {},
     "output_type": "execute_result"
    }
   ],
   "source": [
    "round(current[\"Overall Survival\"] * 100, 2)"
   ]
  },
  {
   "cell_type": "code",
   "execution_count": 166,
   "id": "29491c6c",
   "metadata": {},
   "outputs": [
    {
     "data": {
      "text/plain": [
       "0.0339"
      ]
     },
     "execution_count": 166,
     "metadata": {},
     "output_type": "execute_result"
    }
   ],
   "source": [
    "round(current['Percent Abandoned'] * 100, 4)"
   ]
  },
  {
   "cell_type": "code",
   "execution_count": null,
   "id": "0cae5e48",
   "metadata": {},
   "outputs": [],
   "source": []
  }
 ],
 "metadata": {
  "kernelspec": {
   "display_name": "Python 3 (ipykernel)",
   "language": "python",
   "name": "python3"
  },
  "language_info": {
   "codemirror_mode": {
    "name": "ipython",
    "version": 3
   },
   "file_extension": ".py",
   "mimetype": "text/x-python",
   "name": "python",
   "nbconvert_exporter": "python",
   "pygments_lexer": "ipython3",
   "version": "3.7.3"
  }
 },
 "nbformat": 4,
 "nbformat_minor": 5
}
