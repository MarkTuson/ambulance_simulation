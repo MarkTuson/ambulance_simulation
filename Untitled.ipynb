{
 "cells": [
  {
   "cell_type": "code",
   "execution_count": 1,
   "id": "eaf948be",
   "metadata": {},
   "outputs": [],
   "source": [
    "import pandas as pd"
   ]
  },
  {
   "cell_type": "code",
   "execution_count": 21,
   "id": "94c180fb",
   "metadata": {},
   "outputs": [],
   "source": [
    "def rename(scen):\n",
    "    if scen == 'current':\n",
    "        return 'current_81'\n",
    "    else:\n",
    "        return scen"
   ]
  },
  {
   "cell_type": "code",
   "execution_count": 22,
   "id": "45a441fb",
   "metadata": {},
   "outputs": [],
   "source": [
    "results = pd.read_csv('src/results/results_summary_n.csv')\n",
    "results ['Scenario'] = results['Scenario'].apply(lambda x: rename(x))\n",
    "results['Mean Response Time (mins)'] = results['Mean Response Time'] * (60 * 24)"
   ]
  },
  {
   "cell_type": "code",
   "execution_count": 23,
   "id": "d2111e99",
   "metadata": {
    "scrolled": true
   },
   "outputs": [
    {
     "data": {
      "text/html": [
       "<div>\n",
       "<style scoped>\n",
       "    .dataframe tbody tr th:only-of-type {\n",
       "        vertical-align: middle;\n",
       "    }\n",
       "\n",
       "    .dataframe tbody tr th {\n",
       "        vertical-align: top;\n",
       "    }\n",
       "\n",
       "    .dataframe thead th {\n",
       "        text-align: right;\n",
       "    }\n",
       "</style>\n",
       "<table border=\"1\" class=\"dataframe\">\n",
       "  <thead>\n",
       "    <tr style=\"text-align: right;\">\n",
       "      <th></th>\n",
       "      <th>Percent Abandoned</th>\n",
       "      <th>Ambulance Utilisation</th>\n",
       "      <th>RRV Utilisation</th>\n",
       "      <th>Mean Response Time (mins)</th>\n",
       "      <th>Percent Response within Target</th>\n",
       "    </tr>\n",
       "    <tr>\n",
       "      <th>Scenario</th>\n",
       "      <th></th>\n",
       "      <th></th>\n",
       "      <th></th>\n",
       "      <th></th>\n",
       "      <th></th>\n",
       "    </tr>\n",
       "  </thead>\n",
       "  <tbody>\n",
       "    <tr>\n",
       "      <th>allocation_best_61</th>\n",
       "      <td>0.009098</td>\n",
       "      <td>0.433297</td>\n",
       "      <td>0.517836</td>\n",
       "      <td>19.600039</td>\n",
       "      <td>0.706695</td>\n",
       "    </tr>\n",
       "    <tr>\n",
       "      <th>allocation_best_81</th>\n",
       "      <td>0.000333</td>\n",
       "      <td>0.321920</td>\n",
       "      <td>0.472205</td>\n",
       "      <td>17.356422</td>\n",
       "      <td>0.741818</td>\n",
       "    </tr>\n",
       "    <tr>\n",
       "      <th>current_61</th>\n",
       "      <td>0.007234</td>\n",
       "      <td>0.427161</td>\n",
       "      <td>0.470589</td>\n",
       "      <td>19.039383</td>\n",
       "      <td>0.720100</td>\n",
       "    </tr>\n",
       "    <tr>\n",
       "      <th>current_81</th>\n",
       "      <td>0.000339</td>\n",
       "      <td>0.317497</td>\n",
       "      <td>0.409045</td>\n",
       "      <td>16.800360</td>\n",
       "      <td>0.754018</td>\n",
       "    </tr>\n",
       "  </tbody>\n",
       "</table>\n",
       "</div>"
      ],
      "text/plain": [
       "                    Percent Abandoned  Ambulance Utilisation  RRV Utilisation  \\\n",
       "Scenario                                                                        \n",
       "allocation_best_61           0.009098               0.433297         0.517836   \n",
       "allocation_best_81           0.000333               0.321920         0.472205   \n",
       "current_61                   0.007234               0.427161         0.470589   \n",
       "current_81                   0.000339               0.317497         0.409045   \n",
       "\n",
       "                    Mean Response Time (mins)  Percent Response within Target  \n",
       "Scenario                                                                       \n",
       "allocation_best_61                  19.600039                        0.706695  \n",
       "allocation_best_81                  17.356422                        0.741818  \n",
       "current_61                          19.039383                        0.720100  \n",
       "current_81                          16.800360                        0.754018  "
      ]
     },
     "execution_count": 23,
     "metadata": {},
     "output_type": "execute_result"
    }
   ],
   "source": [
    "results.groupby('Scenario').mean()[['Percent Abandoned', 'Ambulance Utilisation', 'RRV Utilisation', 'Mean Response Time (mins)', \"Percent Response within Target\"]]"
   ]
  },
  {
   "cell_type": "code",
   "execution_count": null,
   "id": "0450ca68",
   "metadata": {},
   "outputs": [],
   "source": []
  }
 ],
 "metadata": {
  "kernelspec": {
   "display_name": "Python 3 (ipykernel)",
   "language": "python",
   "name": "python3"
  },
  "language_info": {
   "codemirror_mode": {
    "name": "ipython",
    "version": 3
   },
   "file_extension": ".py",
   "mimetype": "text/x-python",
   "name": "python",
   "nbconvert_exporter": "python",
   "pygments_lexer": "ipython3",
   "version": "3.7.3"
  }
 },
 "nbformat": 4,
 "nbformat_minor": 5
}
